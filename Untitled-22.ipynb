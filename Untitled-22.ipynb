{
 "cells": [
  {
   "cell_type": "code",
   "execution_count": 534,
   "metadata": {},
   "outputs": [
    {
     "name": "stdout",
     "output_type": "stream",
     "text": [
      "2.txt 1 ['Тревога началась в тринадцать часов ноль две минуты. ']\n",
      "1.txt 8 ['Начальник  полиции\\n', 'лично позвонил в шестнадцатый участок. А спустя  одну минуту тридцать секунд\\n', 'в дежурке и других комнатах нижнего этажа раздались звонки\\n', '     Когда Иенсен  --  комиссар  шестнадцатого  участка --  вышел  из своего\\n', 'кабинета,  звонки еще  не смолкли. Иенсен был мужчина средних лет,  обычного\\n', 'сложения, с лицом плоским и невыразительным. На последней ступеньке винтовой\\n', 'лестницы  он задержался  и  обвел взглядом помещение дежурки. Затем поправил\\n', 'галстук и проследовал к машине.']\n",
      "3.txt 9 [' В  это время  дня  машины текли сплошным  блестящим  потоком,  а  среди\\n', 'потока, будто  колонны из бетона  и стекла, высились  здания. Здесь,  в мире\\n', 'резких граней,  люди  на тротуарах  выглядели  несчастными и  неприкаянными.\\n', 'Одеты они были хорошо, но как-то удивительно походили друг на друга и все до\\n', 'одного спешили. Они шли нестройными  вереницами, широко разливались, завидев\\n', 'красный  светофор или  металлический  блеск кафе-автоматов.  Они непрестанно\\n', 'озирались по сторонам и теребили портфели и сумочки.\\n', '     Полицейские  машины  с  включенными  сиренами  пробивались  сквозь  эту\\n', 'толчею.']\n"
     ]
    }
   ],
   "source": [
    "import os\n",
    "files = []\n",
    "with open (\"1.txt\", encoding=\"utf-8\") as f:\n",
    "    data = f.readlines()\n",
    "    file_1 = len(data)\n",
    "    fil_1 = \"1.txt\"\n",
    "    count = ([fil_1, file_1, data])\n",
    "with open (\"2.txt\", encoding=\"utf-8\") as f:\n",
    "    data = f.readlines()\n",
    "    file_2 = len(data)\n",
    "    fil_2 = \"2.txt\"\n",
    "    count_1 = (fil_2, file_2, data)\n",
    "with open (\"3.txt\", encoding=\"utf-8\") as f:\n",
    "    data = f.readlines()\n",
    "    file_3 = len(data)\n",
    "    fil_3 = \"3.txt\"\n",
    "    count_2 = (fil_3, file_3, data)\n",
    "files.append(count)\n",
    "files.sort()\n",
    "print(*count_1)\n",
    "print(*count)\n",
    "print(*count_2)\n",
    "\n",
    "\n",
    "\n",
    "\n"
   ]
  }
 ],
 "metadata": {
  "kernelspec": {
   "display_name": "Python 3",
   "language": "python",
   "name": "python3"
  },
  "language_info": {
   "codemirror_mode": {
    "name": "ipython",
    "version": 3
   },
   "file_extension": ".py",
   "mimetype": "text/x-python",
   "name": "python",
   "nbconvert_exporter": "python",
   "pygments_lexer": "ipython3",
   "version": "3.9.13"
  }
 },
 "nbformat": 4,
 "nbformat_minor": 2
}
